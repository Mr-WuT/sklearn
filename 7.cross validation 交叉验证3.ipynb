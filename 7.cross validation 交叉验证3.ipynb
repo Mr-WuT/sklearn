{
 "cells": [
  {
   "cell_type": "code",
   "execution_count": 1,
   "metadata": {},
   "outputs": [],
   "source": [
    "from sklearn.model_selection import validation_curve\n",
    "from sklearn.datasets import load_digits\n",
    "from sklearn.svm import SVC\n",
    "import matplotlib.pyplot as plt\n",
    "import numpy as np"
   ]
  },
  {
   "cell_type": "code",
   "execution_count": 2,
   "metadata": {},
   "outputs": [],
   "source": [
    "digits = load_digits()\n",
    "X = digits.data\n",
    "y = digits.target\n",
    "param_range = np.logspace(-6, -2.3, 5)\n",
    "train_loss,test_loss = validation_curve(SVC(), X, y, param_name='gamma',\n",
    "                                                    param_range=param_range, cv=10, \n",
    "                                                    scoring='neg_mean_squared_error')"
   ]
  },
  {
   "cell_type": "code",
   "execution_count": 3,
   "metadata": {},
   "outputs": [
    {
     "data": {
      "text/plain": [
       "array([  1.,   2.,   4.,   8.,  16.,  32.,  64., 128., 256., 512.])"
      ]
     },
     "execution_count": 3,
     "metadata": {},
     "output_type": "execute_result"
    }
   ],
   "source": [
    "# np.logspace用法 base默认10\n",
    "np.logspace(0,9,10,base=2)"
   ]
  },
  {
   "cell_type": "code",
   "execution_count": 4,
   "metadata": {},
   "outputs": [],
   "source": [
    "train_loss_mean = -train_loss.mean(axis=1)\n",
    "test_loss_mean = -test_loss.mean(axis=1)"
   ]
  },
  {
   "cell_type": "code",
   "execution_count": 5,
   "metadata": {},
   "outputs": [
    {
     "data": {
      "image/png": "[encoded data removed]",
      "text/plain": [
       "<Figure size 432x288 with 1 Axes>"
      ]
     },
     "metadata": {
      "needs_background": "light"
     },
     "output_type": "display_data"
    }
   ],
   "source": [
    "plt.plot(param_range,train_loss_mean,'o-',color=\"r\",label=\"train\")\n",
    "plt.plot(param_range,test_loss_mean,'o-',color=\"g\",label=\"test\")\n",
    "plt.xlabel(\"param_range\")\n",
    "plt.ylabel(\"loss\")\n",
    "plt.legend(loc=\"best\")    # 没有这个不会显示折线的label\n",
    "plt.show()"
   ]
  },
  {
   "cell_type": "markdown",
   "metadata": {},
   "source": [
    "### 以上说明gamma=0.0006更适合"
   ]
  },
  {
   "cell_type": "code",
   "execution_count": 6,
   "metadata": {},
   "outputs": [
    {
     "data": {
      "image/png": "[encoded data removed]",
      "text/plain": [
       "<Figure size 432x288 with 1 Axes>"
      ]
     },
     "metadata": {
      "needs_background": "light"
     },
     "output_type": "display_data"
    }
   ],
   "source": [
    "param_range = np.logspace(-3.5, -2.3, 5)\n",
    "train_loss,test_loss = validation_curve(SVC(), X, y, param_name='gamma',\n",
    "                                                    param_range=param_range, cv=10, \n",
    "                                                    scoring='neg_mean_squared_error')\n",
    "train_loss_mean = -train_loss.mean(axis=1)\n",
    "test_loss_mean = -test_loss.mean(axis=1)\n",
    "plt.plot(param_range,train_loss_mean,'o-',color=\"r\",label=\"train\")\n",
    "plt.plot(param_range,test_loss_mean,'o-',color=\"g\",label=\"test\")\n",
    "plt.xlabel(\"param_range\")\n",
    "plt.ylabel(\"loss\")\n",
    "plt.legend(loc=\"best\")    # 没有这个不会显示折线的label\n",
    "plt.show()"
   ]
  },
  {
   "cell_type": "code",
   "execution_count": 7,
   "metadata": {},
   "outputs": [
    {
     "data": {
      "text/plain": [
       "array([0.00031623, 0.00063096, 0.00125893, 0.00251189, 0.00501187])"
      ]
     },
     "execution_count": 7,
     "metadata": {},
     "output_type": "execute_result"
    }
   ],
   "source": [
    "np.logspace(-3.5, -2.3, 5)"
   ]
  },
  {
   "cell_type": "markdown",
   "metadata": {},
   "source": [
    "### 以上说明gamma=0.001更合适"
   ]
  }
 ],
 "metadata": {
  "kernelspec": {
   "display_name": "Python 3",
   "language": "python",
   "name": "python3"
  },
  "language_info": {
   "codemirror_mode": {
    "name": "ipython",
    "version": 3
   },
   "file_extension": ".py",
   "mimetype": "text/x-python",
   "name": "python",
   "nbconvert_exporter": "python",
   "pygments_lexer": "ipython3",
   "version": "3.7.4"
  }
 },
 "nbformat": 4,
 "nbformat_minor": 2
}
